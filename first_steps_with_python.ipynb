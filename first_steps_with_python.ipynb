{
  "nbformat": 4,
  "nbformat_minor": 0,
  "metadata": {
    "kernelspec": {
      "display_name": "Python 3",
      "language": "python",
      "name": "python3"
    },
    "language_info": {
      "codemirror_mode": {
        "name": "ipython",
        "version": 3
      },
      "file_extension": ".py",
      "mimetype": "text/x-python",
      "name": "python",
      "nbconvert_exporter": "python",
      "pygments_lexer": "ipython3",
      "version": "3.6.10"
    },
    "colab": {
      "name": "first-steps-with-python.ipynb",
      "provenance": [],
      "include_colab_link": true
    }
  },
  "cells": [
    {
      "cell_type": "markdown",
      "metadata": {
        "id": "view-in-github",
        "colab_type": "text"
      },
      "source": [
        "<a href=\"https://colab.research.google.com/github/vishalkukade38/PandasDataAnalysis/blob/master/first_steps_with_python.ipynb\" target=\"_parent\"><img src=\"https://colab.research.google.com/assets/colab-badge.svg\" alt=\"Open In Colab\"/></a>"
      ]
    },
    {
      "cell_type": "code",
      "metadata": {
        "id": "xMq7r9mhJKAi",
        "colab_type": "code",
        "colab": {}
      },
      "source": [
        "# Jovian Commit Essentials\n",
        "# Please retain and execute this cell without modifying the contents for `jovian.commit` to work\n",
        "!pip install jovian --upgrade -q\n",
        "import jovian\n",
        "jovian.utils.colab.set_colab_file_id('1xhiObJ9w-NtKgD2yrFcMJMN8_dZxAkTy')"
      ],
      "execution_count": null,
      "outputs": []
    },
    {
      "cell_type": "markdown",
      "metadata": {
        "id": "FzjNyyWsJKAr",
        "colab_type": "text"
      },
      "source": [
        "# First Steps with Python and Jupyter \n",
        "\n",
        "### Part 1 of \"A Gentle Introduction to Programming with Python\"\n",
        "\n",
        "This tutorial is the first in a series of beginner-friendly tutorials on programming using the Python language. These tutorials take a practical coding-based approach, and the best way to learn the material is to execute the code and experiment with the examples. Check out the full series here: \n",
        "\n",
        "1. [First Steps with Python and Jupyter](https://jovian.ml/aakashns/first-steps-with-python)\n",
        "2. [A Quick Tour of Variables and Data Types](https://jovian.ml/aakashns/python-variables-and-data-types)\n",
        "3. [Branching using Conditional Statements and Loops](https://jovian.ml/aakashns/python-branching-and-loops)\n",
        "4. [Writing Reusable Code Using Functions](https://jovian.ml/aakashns/python-functions-and-scope)\n",
        "5. [Reading from and Writing to Files](https://jovian.ml/aakashns/python-os-and-filesystem)\n",
        "6. [Object Oriented Programming with Classes](https://jovian.ml/aakashns/python-object-oriented-programming)\n",
        "\n",
        "\n",
        "The following topics are covered in this tutorial:\n",
        "\n",
        "* Performing arithmetic operations using Python\n",
        "* Solving multi-step problems using variables\n",
        "* Evaluating conditions using Python\n",
        "* Combining conditions with logical operators\n",
        "* Adding text styles using Markdown"
      ]
    },
    {
      "cell_type": "markdown",
      "metadata": {
        "id": "95zLjesGJKAt",
        "colab_type": "text"
      },
      "source": [
        "## How to run the code\n",
        "\n",
        "This tutorial is an executable [*Jupyter notebook*](https://jupyter.org) hosted on [Jovian.ml](https://www.jovian.ml), a platform for sharing data science projects online (don't worry if these terms seem unfamiliar, we'll learn more about them soon). You can \"run\" this tutorial and experiment with the code examples in a couple of ways: *using free online resources* (recommended) or *on your own computer*.\n",
        "\n",
        "### Option 1: Running using free online resources (1-click, recommended)\n",
        "\n",
        "The easiest way to start executing this notebook is to click the \"Run\" button at the top of this page, and select \"Run on Binder\". This will run the notebook on [mybinder.org](https://mybinder.org), a free online service for running Jupyter notebooks. You can also select \"Run on Colab\" or \"Run on Kaggle\", but you'll need to create an account on [Google Colab](https://colab.research.google.com) or [Kaggle](https://kaggle.com) to use these platforms.\n",
        "\n",
        "\n",
        "### Option 2: Running on your computer locally\n",
        "\n",
        "To run this notebook on your computer locally, you'll need to set up Python and download the notebook. We recommend using the [Conda](https://docs.conda.io/en/latest/) distribution of Python. Here's what you need to do to get started:\n",
        "\n",
        "1. Install Conda by [following these instructions](https://conda.io/projects/conda/en/latest/user-guide/install/index.html). Make sure to add Conda binaries to your system `PATH` to be able to run the `conda` command line tool from your Mac/Linux terminal or Windows command prompt. \n",
        "\n",
        "\n",
        "2. Create and activate a [Conda virtual environment](https://docs.conda.io/projects/conda/en/latest/user-guide/tasks/manage-environments.html) called `zerotopandas` which you can use for this tutorial series, by running the follwing commands on your terminal / command prompt:\n",
        "```\n",
        "conda create -n intro-to-python -y python=3.8 \n",
        "conda activate intro-to-python\n",
        "```\n",
        "You'll need to create the environment only once, but you'll have to activate it every time want to run the notebook. When the environment is activated, you should be able to see a prefix `(intro-to-python)` within your terminal or command prompt.\n",
        "\n",
        "\n",
        "3. Install the required Python libraries within the environment by the running the following command:\n",
        "```\n",
        "pip install jovian jupyter numpy pandas matplotlib seaborn --upgrade\n",
        "```\n",
        "\n",
        "4. Download the notebook for this tutorial using the `jovian clone` command:\n",
        "```\n",
        "jovian clone aakashns/first-steps-with-python\n",
        "```\n",
        "The notebook is downloaded to the directory `first-steps-with-python`. You can also use the \"Download Zip\" option on the page instead of using the `jovian clone` command.\n",
        "\n",
        "\n",
        "5. Enter the project directory and start the Jupyter notebook:\n",
        "```\n",
        "cd first-steps-with-python\n",
        "jupyter notebook\n",
        "```\n",
        "\n",
        "6. You can now access Jupyter's web interface by clicking the link that shows up on the terminal or by visiting http://localhost:8888 on your browser. Click on the notebook `first-steps-with-python.ipynb` to open it and run the code. If you want to type out the code yourself, you can also create a new notebook using the \"New\" button.\n",
        "\n",
        ">  **Jupyter Notebooks**: This tutorial is a [Jupyter notebook](https://jupyter.org) - a document made of \"cells\", which can contain explanations in text or code written in Python. Code cells can be executed and their outputs e.g. numbers, messages, graphs, tables, files etc. can be viewed within the notebook, which makes it a really powerful platform for experimentation and analysis. Don't afraid to experiment with the code & break things - you'll learn a lot by encoutering and fixing errors. You can use the \"Kernel > Restart & Clear Output\" menu option to clear all outputs and start again from the top of the notebook."
      ]
    },
    {
      "cell_type": "markdown",
      "metadata": {
        "id": "GQYpKXBpJKAv",
        "colab_type": "text"
      },
      "source": [
        "## Performing Arithmetic Operations using Python\n",
        "\n",
        "Let's begin by using Python as a calculator. You can write and execute Python using a code cell within Jupyter. \n",
        "\n",
        "> **Working with Cells**: To create a new cell within Jupyter, you can select \"Insert > Insert Cell Below\" from the menu bar or just press the \"+\" button on the toolbar. You can also use the keyboard shortcut `Esc+B` to create a new cell. Once a cell is created, click on it to select it. You can then change the cell type to code or markdown (text) using \"Cell > Cell Type\" menu option. You can also use the keyboard shortcuts `Esc+Y` and `Esc+M`. Double click a cell to edit the content within the cell. To apply your changes and run a cell, use the \"Cell > Run Cells\" menu option or click the \"Run\" button on the toolbar or just use the keyboard shortcut `Shift+Enter`. You can see a full list of keyboard shortcuts using the \"Help > Keyboard Shortcuts\" menu option.\n",
        "\n",
        "Run the code cells below to perform calculations and view their result. Try changing the numbers and run the changed cells again to see updated results. Can you guess what the `//`, `%` and `**` operators are used for?"
      ]
    },
    {
      "cell_type": "code",
      "metadata": {
        "id": "BbZlYCH5JKAw",
        "colab_type": "code",
        "colab": {},
        "outputId": "b44d9f13-4fca-4255-a315-17fbdd696c17"
      },
      "source": [
        "2 + 3 + 9"
      ],
      "execution_count": null,
      "outputs": [
        {
          "output_type": "execute_result",
          "data": {
            "text/plain": [
              "14"
            ]
          },
          "metadata": {
            "tags": []
          },
          "execution_count": 1
        }
      ]
    },
    {
      "cell_type": "code",
      "metadata": {
        "id": "4BDx9TbAJKA3",
        "colab_type": "code",
        "colab": {},
        "outputId": "e861aaf1-e991-4fab-b41e-49f3dd929d45"
      },
      "source": [
        "99 - 73"
      ],
      "execution_count": null,
      "outputs": [
        {
          "output_type": "execute_result",
          "data": {
            "text/plain": [
              "26"
            ]
          },
          "metadata": {
            "tags": []
          },
          "execution_count": 2
        }
      ]
    },
    {
      "cell_type": "code",
      "metadata": {
        "scrolled": true,
        "id": "a8xXgz8YJKA8",
        "colab_type": "code",
        "colab": {},
        "outputId": "99595b0f-0322-4841-d7f8-6e7e4cc54081"
      },
      "source": [
        "23.54 * -1432"
      ],
      "execution_count": null,
      "outputs": [
        {
          "output_type": "execute_result",
          "data": {
            "text/plain": [
              "-33709.28"
            ]
          },
          "metadata": {
            "tags": []
          },
          "execution_count": 3
        }
      ]
    },
    {
      "cell_type": "code",
      "metadata": {
        "id": "wutQZlRpJKBB",
        "colab_type": "code",
        "colab": {},
        "outputId": "b814e3da-4cbc-48a3-adc7-e20c05dbc8db"
      },
      "source": [
        "100 / 7"
      ],
      "execution_count": null,
      "outputs": [
        {
          "output_type": "execute_result",
          "data": {
            "text/plain": [
              "14.285714285714286"
            ]
          },
          "metadata": {
            "tags": []
          },
          "execution_count": 4
        }
      ]
    },
    {
      "cell_type": "code",
      "metadata": {
        "id": "BusJI9bKJKBI",
        "colab_type": "code",
        "colab": {},
        "outputId": "ec0e4b4b-4546-42e3-d68f-f0c164e69045"
      },
      "source": [
        "100 // 7"
      ],
      "execution_count": null,
      "outputs": [
        {
          "output_type": "execute_result",
          "data": {
            "text/plain": [
              "14"
            ]
          },
          "metadata": {
            "tags": []
          },
          "execution_count": 5
        }
      ]
    },
    {
      "cell_type": "code",
      "metadata": {
        "id": "1v3fyz3TJKBO",
        "colab_type": "code",
        "colab": {},
        "outputId": "93c7dd49-a002-4712-912b-e8a8802df71f"
      },
      "source": [
        "100 % 7"
      ],
      "execution_count": null,
      "outputs": [
        {
          "output_type": "execute_result",
          "data": {
            "text/plain": [
              "2"
            ]
          },
          "metadata": {
            "tags": []
          },
          "execution_count": 6
        }
      ]
    },
    {
      "cell_type": "code",
      "metadata": {
        "id": "6K2ZWMZ9JKBU",
        "colab_type": "code",
        "colab": {},
        "outputId": "f1709b4d-2050-4ff0-cf1e-62e75a88e614"
      },
      "source": [
        "5 ** 3"
      ],
      "execution_count": null,
      "outputs": [
        {
          "output_type": "execute_result",
          "data": {
            "text/plain": [
              "125"
            ]
          },
          "metadata": {
            "tags": []
          },
          "execution_count": 7
        }
      ]
    },
    {
      "cell_type": "markdown",
      "metadata": {
        "id": "VhSIIqG4JKBZ",
        "colab_type": "text"
      },
      "source": [
        "As you might expect, certain operators like `/` and `*` take precendence over other operators like `+` and `-` as per mathematical conventions. You can use parantheses i.e. `(` and `)` to specify the order in which operations are performed."
      ]
    },
    {
      "cell_type": "code",
      "metadata": {
        "id": "ys8vAFzyJKBa",
        "colab_type": "code",
        "colab": {},
        "outputId": "d3314d19-aae4-4eab-8b0b-b5a89572273a"
      },
      "source": [
        "((2 + 5) * (17 - 3)) / (4 ** 3)"
      ],
      "execution_count": null,
      "outputs": [
        {
          "output_type": "execute_result",
          "data": {
            "text/plain": [
              "1.53125"
            ]
          },
          "metadata": {
            "tags": []
          },
          "execution_count": 8
        }
      ]
    },
    {
      "cell_type": "markdown",
      "metadata": {
        "id": "-wxVYkjCJKBf",
        "colab_type": "text"
      },
      "source": [
        "Python supports the following arithmetic operators:\n",
        "\n",
        "| Operator   | Purpose           | Example     | Result    |\n",
        "|------------|-------------------|-------------|-----------|\n",
        "| `+`        | Addition          | `2 + 3`     | `5`       |\n",
        "| `-`        | Subtraction       | `3 - 2`     | `1`       |\n",
        "| `*`        | Multiplication    | `8 * 12`    | `96`      |\n",
        "| `/`        | Division          | `100 / 7`   | `14.28..` |\n",
        "| `//`       | Floor Division    | `100 // 7`  | `14`      |    \n",
        "| `%`        | Modulus/Remainder | `100 % 7`   | `2`       |\n",
        "| `**`       | Exponent          | `5 ** 3`    | `125`     |\n",
        "\n",
        "\n",
        "Try solving some simple problems from this page: https://www.math-only-math.com/worksheet-on-word-problems-on-four-operations.html . You can use the empty cells below and add more cells if required."
      ]
    },
    {
      "cell_type": "code",
      "metadata": {
        "id": "sUqr1JVzJKBf",
        "colab_type": "code",
        "colab": {},
        "outputId": "b8460956-5e6d-4bd3-cc74-be7d411d34e5"
      },
      "source": [
        "#The population of a town is 198568. Out of them 45312 are men and 35678 are women. Find the number of children in the town\n",
        "TotalPopulation=198568\n",
        "menPopulation=45312\n",
        "womenPopulation=35678\n",
        "childPopulation=TotalPopulation-(menPopulation+womenPopulation)\n",
        "print(\"Out of total population of village childrens population is = \",childPopulation)"
      ],
      "execution_count": null,
      "outputs": [
        {
          "output_type": "stream",
          "text": [
            "Out of total population of village childrens population is =  117578\n"
          ],
          "name": "stdout"
        }
      ]
    },
    {
      "cell_type": "code",
      "metadata": {
        "id": "5C2_LDhkJKBn",
        "colab_type": "code",
        "colab": {}
      },
      "source": [
        "# A shopkeeper has 2425 boxes of 24 pencils each. How many pencils do all the boxes have in all?"
      ],
      "execution_count": null,
      "outputs": []
    },
    {
      "cell_type": "code",
      "metadata": {
        "id": "7-Ggp5tdJKBt",
        "colab_type": "code",
        "colab": {}
      },
      "source": [
        ""
      ],
      "execution_count": null,
      "outputs": []
    },
    {
      "cell_type": "code",
      "metadata": {
        "id": "XeLgfr5LJKBx",
        "colab_type": "code",
        "colab": {}
      },
      "source": [
        ""
      ],
      "execution_count": null,
      "outputs": []
    },
    {
      "cell_type": "markdown",
      "metadata": {
        "id": "cX9QsWi-JKB1",
        "colab_type": "text"
      },
      "source": [
        "## Solving multi-step problems using variables\n",
        "\n",
        "Let's try solving the following word problem using Python: \n",
        "\n",
        "> A grocery store sells a bag of ice for $1.25, and makes 20% profit. If it sells 500 bags of ice, how much total profit does it make?\n",
        "\n",
        "We can list out the information provided, and gradually convert the word problem into a mathematical expression which can be evaluated using Python. \n",
        "\n",
        "*Cost of ice bag ($)* = 1.25\n",
        "\n",
        "*Profit margin* = 20% = .2\n",
        "\n",
        "*Profit per bag ($)* = profit margin * cost of ice bag = .2 * 1.25\n",
        "\n",
        "*No. of bags* = 500\n",
        "\n",
        "*Total profit* = no. of bags * profit per bag = 500 * (.2 * 1.25)"
      ]
    },
    {
      "cell_type": "code",
      "metadata": {
        "id": "I2vJRX0HJKB2",
        "colab_type": "code",
        "colab": {},
        "outputId": "1c3f9147-7922-4e62-df70-370773cda84a"
      },
      "source": [
        "500 * (.2 * 1.25)"
      ],
      "execution_count": null,
      "outputs": [
        {
          "output_type": "execute_result",
          "data": {
            "text/plain": [
              "125.0"
            ]
          },
          "metadata": {
            "tags": []
          },
          "execution_count": 9
        }
      ]
    },
    {
      "cell_type": "markdown",
      "metadata": {
        "id": "2J1nAxmmJKB7",
        "colab_type": "text"
      },
      "source": [
        "Thus, the grocery store makes a total profit of $125.0 . While this is a reasonable way to solve a problem, it's not quite clear by looking at the code cell what the numbers represent. We can give names to each of the numbers by creating Python *variables*.\n",
        "\n",
        "> **Variables**: While working with a programming language such as Python, informations is stored in *variables*. You can think of variables as containers for storing data. The data stored within a variable is called it's *value*."
      ]
    },
    {
      "cell_type": "code",
      "metadata": {
        "id": "R6szMuMgJKB8",
        "colab_type": "code",
        "colab": {}
      },
      "source": [
        "cost_of_ice_bag = 1.25"
      ],
      "execution_count": null,
      "outputs": []
    },
    {
      "cell_type": "code",
      "metadata": {
        "id": "51KQVEavJKCA",
        "colab_type": "code",
        "colab": {}
      },
      "source": [
        "profit_margin = .2"
      ],
      "execution_count": null,
      "outputs": []
    },
    {
      "cell_type": "code",
      "metadata": {
        "id": "vhakZdw7JKCG",
        "colab_type": "code",
        "colab": {}
      },
      "source": [
        "number_of_bags = 500"
      ],
      "execution_count": null,
      "outputs": []
    },
    {
      "cell_type": "markdown",
      "metadata": {
        "id": "W2SH_E9OJKCL",
        "colab_type": "text"
      },
      "source": [
        "The variables `cost_of_ice_bag`, `profit_margin` and `number_of_bags` now contain the information provided in the word problem. We can check the value of a variable by typing its name into a cell, and we can combine variables using arithmetic operations to create other variables.\n",
        "\n",
        "> Tip: While typing the name of an existing variable in a code cell within Jupyter, you can type the first few characters and press the `Tab` key to autocomplete the variable's name. Try typing `pro` in a code cell below and press `Tab` to autocomplete to `profit_margin`."
      ]
    },
    {
      "cell_type": "code",
      "metadata": {
        "id": "rD21R46-JKCM",
        "colab_type": "code",
        "colab": {},
        "outputId": "feae66ac-a4c4-458a-a768-500a6fdf0ffe"
      },
      "source": [
        "profit_margin"
      ],
      "execution_count": null,
      "outputs": [
        {
          "output_type": "execute_result",
          "data": {
            "text/plain": [
              "0.2"
            ]
          },
          "metadata": {
            "tags": []
          },
          "execution_count": 13
        }
      ]
    },
    {
      "cell_type": "code",
      "metadata": {
        "id": "DBmLKatdJKCR",
        "colab_type": "code",
        "colab": {}
      },
      "source": [
        "profit_per_bag = cost_of_ice_bag * profit_margin"
      ],
      "execution_count": null,
      "outputs": []
    },
    {
      "cell_type": "code",
      "metadata": {
        "id": "xPNMxuSLJKCU",
        "colab_type": "code",
        "colab": {},
        "outputId": "e6445860-535f-4a51-b276-9b1e24497b33"
      },
      "source": [
        "profit_per_bag"
      ],
      "execution_count": null,
      "outputs": [
        {
          "output_type": "execute_result",
          "data": {
            "text/plain": [
              "0.25"
            ]
          },
          "metadata": {
            "tags": []
          },
          "execution_count": 15
        }
      ]
    },
    {
      "cell_type": "code",
      "metadata": {
        "id": "5Jgm0QXiJKCZ",
        "colab_type": "code",
        "colab": {}
      },
      "source": [
        "total_profit = number_of_bags * profit_per_bag"
      ],
      "execution_count": null,
      "outputs": []
    },
    {
      "cell_type": "code",
      "metadata": {
        "id": "6cJUJbRIJKCf",
        "colab_type": "code",
        "colab": {},
        "outputId": "938b8228-ab1c-4167-940b-c6a561adc81b"
      },
      "source": [
        "total_profit"
      ],
      "execution_count": null,
      "outputs": [
        {
          "output_type": "execute_result",
          "data": {
            "text/plain": [
              "125.0"
            ]
          },
          "metadata": {
            "tags": []
          },
          "execution_count": 17
        }
      ]
    },
    {
      "cell_type": "markdown",
      "metadata": {
        "id": "RYY2WvsiJKCj",
        "colab_type": "text"
      },
      "source": [
        "If you try to see the value of a variable that has not been *defined* i.e. given a value using the assignment statement `variable_name = value`, then Python shows an error."
      ]
    },
    {
      "cell_type": "code",
      "metadata": {
        "id": "F29kf5yjJKCk",
        "colab_type": "code",
        "colab": {},
        "outputId": "7530c07d-8523-4e9c-d784-125487fb11b0"
      },
      "source": [
        "net_profit"
      ],
      "execution_count": null,
      "outputs": [
        {
          "output_type": "error",
          "ename": "NameError",
          "evalue": "name 'net_profit' is not defined",
          "traceback": [
            "\u001b[0;31m---------------------------------------------------------------------------\u001b[0m",
            "\u001b[0;31mNameError\u001b[0m                                 Traceback (most recent call last)",
            "\u001b[0;32m<ipython-input-18-5eb2b296f798>\u001b[0m in \u001b[0;36m<module>\u001b[0;34m\u001b[0m\n\u001b[0;32m----> 1\u001b[0;31m \u001b[0mnet_profit\u001b[0m\u001b[0;34m\u001b[0m\u001b[0;34m\u001b[0m\u001b[0m\n\u001b[0m",
            "\u001b[0;31mNameError\u001b[0m: name 'net_profit' is not defined"
          ]
        }
      ]
    },
    {
      "cell_type": "markdown",
      "metadata": {
        "id": "XR_YCv_sJKCq",
        "colab_type": "text"
      },
      "source": [
        "Storing and manipulating data using appropriately named variables is a great way to explain what your code does.\n",
        "\n",
        "Let's display the result of the word problem using a friendly message. We can do this using the `print` *function*.\n",
        "\n",
        "> **Functions**: A function is a reusable set of instructions. A function takes one or more inputs, performs certain operations, and often returns an output. Python provides many in-built functions like `print`, and also allows us to define our own functions."
      ]
    },
    {
      "cell_type": "code",
      "metadata": {
        "id": "rBQu-1tIJKCq",
        "colab_type": "code",
        "colab": {},
        "outputId": "8c3ea349-a6b5-4e73-dfd8-63035aa230d4"
      },
      "source": [
        "print(\"The grocery store makes a total profit of $\", total_profit)"
      ],
      "execution_count": null,
      "outputs": [
        {
          "output_type": "stream",
          "text": [
            "The grocery store makes a total profit of $ 125.0\n"
          ],
          "name": "stdout"
        }
      ]
    },
    {
      "cell_type": "markdown",
      "metadata": {
        "id": "TIkRBwRVJKCx",
        "colab_type": "text"
      },
      "source": [
        "> **`print`**: The `print` function is used to display information. It takes one or more inputs which can be text (within quotes e.g. `\"this is some text\"`), numbers, variables, mathematical expressions etc. We'll learn more about variables & functions in the next section.\n",
        "\n",
        "Creating a code cell for each variable or mathematical operation can get tedious. Fortunately, Jupyter allows you write multiple lines of code within a single code cell. Let's rewrite the solution to our word problem within a single cell."
      ]
    },
    {
      "cell_type": "code",
      "metadata": {
        "id": "wwy0QuhXJKCy",
        "colab_type": "code",
        "colab": {},
        "outputId": "ab8f4fff-f546-4b87-896c-de1ae8de8bed"
      },
      "source": [
        "# Store input data in variables\n",
        "cost_of_ice_bag = 1.25\n",
        "profit_margin = .2\n",
        "number_of_bags = 500\n",
        "\n",
        "# Perform the required calculations\n",
        "profit_per_bag = cost_of_ice_bag * profit_margin\n",
        "total_profit = number_of_bags * profit_per_bag\n",
        "\n",
        "# Display the result\n",
        "print(\"The grocery store makes a total profit of $\", total_profit)"
      ],
      "execution_count": null,
      "outputs": [
        {
          "output_type": "stream",
          "text": [
            "The grocery store makes a total profit of $ 125.0\n"
          ],
          "name": "stdout"
        }
      ]
    },
    {
      "cell_type": "markdown",
      "metadata": {
        "id": "Cb2S5BvlJKC5",
        "colab_type": "text"
      },
      "source": [
        "Note that we're using the `#` character to add *comments* within our code. \n",
        "\n",
        "> **Comments**: Comments and blank lines are ignored during execution, but they are useful for providing information to other humans (including yourself) about what the code does. Comments can be inline (at the end of some code), on a separate line, or even span multiple lines. \n",
        "\n",
        "Inline and single line comments start with `#`, whereas multi-line comments begin and end with three quotes i.e `\"\"\"`. Here are some examples of code comments:"
      ]
    },
    {
      "cell_type": "code",
      "metadata": {
        "id": "SP6pLIKaJKC6",
        "colab_type": "code",
        "colab": {}
      },
      "source": [
        "my_favorite_number = 1 # an inline comment"
      ],
      "execution_count": null,
      "outputs": []
    },
    {
      "cell_type": "code",
      "metadata": {
        "id": "3waId6qeJKC-",
        "colab_type": "code",
        "colab": {}
      },
      "source": [
        "# This comment gets its own line\n",
        "my_least_favorite_number = 3"
      ],
      "execution_count": null,
      "outputs": []
    },
    {
      "cell_type": "code",
      "metadata": {
        "id": "o83ds5FeJKDC",
        "colab_type": "code",
        "colab": {}
      },
      "source": [
        "\"\"\"This is a multi-line comment.\n",
        "Write as little or as much as you'd like.\n",
        "\n",
        "Comments are really helpful for people reading\n",
        "your code, but try to keep them short & to-the-point.\n",
        "\n",
        "Also, if you use good variable names, then your code is\n",
        "often self explanatory, and you may not even need comments!\n",
        "\"\"\"\n",
        "a_neutral_number = 5"
      ],
      "execution_count": null,
      "outputs": []
    },
    {
      "cell_type": "markdown",
      "metadata": {
        "id": "WGK99vPYJKDH",
        "colab_type": "text"
      },
      "source": [
        "## Evaluating conditions using Python\n",
        "\n",
        "Apart from arithmetic operations, Python also provides several oprations for comparing numbers & variables.\n",
        "\n",
        "| Operator    | Description                                                     |\n",
        "|-------------|-----------------------------------------------------------------|\n",
        "| `==`        | Check if operands are equal                                     |\n",
        "| `!=`        | Check if operands are not equal                                 |\n",
        "| `>`         | Check if left operand is greater than right operand             |\n",
        "| `<`         | Check if left operand is less than right operand                |\n",
        "| `>=`        | Check if left operand is greater than or equal to right operand |\n",
        "| `<=`        | Check if left operand is less than or equal to right operand    |\n",
        "\n",
        "The result of a comparision operation is either `True` or `False` (note the uppercase `T` and `F`). These are special keywords in Python. Let's try out some experiment with comparision operators."
      ]
    },
    {
      "cell_type": "code",
      "metadata": {
        "id": "I0qK4DR-JKDH",
        "colab_type": "code",
        "colab": {}
      },
      "source": [
        "my_favorite_number = 1\n",
        "my_least_favorite_number = 5\n",
        "a_neutral_number = 3"
      ],
      "execution_count": null,
      "outputs": []
    },
    {
      "cell_type": "code",
      "metadata": {
        "id": "wXwYg-iYJKDN",
        "colab_type": "code",
        "colab": {},
        "outputId": "9f8dc232-5eb2-4615-a31d-37bb8e756cd5"
      },
      "source": [
        "# Equality check - True\n",
        "my_favorite_number == 1"
      ],
      "execution_count": null,
      "outputs": [
        {
          "output_type": "execute_result",
          "data": {
            "text/plain": [
              "True"
            ]
          },
          "metadata": {
            "tags": []
          },
          "execution_count": 25
        }
      ]
    },
    {
      "cell_type": "code",
      "metadata": {
        "id": "BBbeVtUgJKDS",
        "colab_type": "code",
        "colab": {},
        "outputId": "8822c152-7fee-484d-d147-edf8b8595ff5"
      },
      "source": [
        "# Equality check - False\n",
        "my_favorite_number == my_least_favorite_number"
      ],
      "execution_count": null,
      "outputs": [
        {
          "output_type": "execute_result",
          "data": {
            "text/plain": [
              "False"
            ]
          },
          "metadata": {
            "tags": []
          },
          "execution_count": 26
        }
      ]
    },
    {
      "cell_type": "code",
      "metadata": {
        "id": "WGmkvcR6JKDW",
        "colab_type": "code",
        "colab": {},
        "outputId": "a68f7f03-0967-4cf1-a8cc-0b1e303210f4"
      },
      "source": [
        "# Not equal check - True\n",
        "my_favorite_number != a_neutral_number"
      ],
      "execution_count": null,
      "outputs": [
        {
          "output_type": "execute_result",
          "data": {
            "text/plain": [
              "True"
            ]
          },
          "metadata": {
            "tags": []
          },
          "execution_count": 27
        }
      ]
    },
    {
      "cell_type": "code",
      "metadata": {
        "id": "94gno6EEJKDa",
        "colab_type": "code",
        "colab": {},
        "outputId": "393c61ed-421c-4969-dd05-c25de7e63329"
      },
      "source": [
        "# Not equal check - False\n",
        "a_neutral_number != 3"
      ],
      "execution_count": null,
      "outputs": [
        {
          "output_type": "execute_result",
          "data": {
            "text/plain": [
              "False"
            ]
          },
          "metadata": {
            "tags": []
          },
          "execution_count": 28
        }
      ]
    },
    {
      "cell_type": "code",
      "metadata": {
        "id": "BoHnTXL8JKDe",
        "colab_type": "code",
        "colab": {},
        "outputId": "d5debfc7-4502-4748-9dbf-e26a57f26bc3"
      },
      "source": [
        "# Greater than check - True\n",
        "my_least_favorite_number > a_neutral_number"
      ],
      "execution_count": null,
      "outputs": [
        {
          "output_type": "execute_result",
          "data": {
            "text/plain": [
              "True"
            ]
          },
          "metadata": {
            "tags": []
          },
          "execution_count": 29
        }
      ]
    },
    {
      "cell_type": "code",
      "metadata": {
        "id": "o9hcRK_LJKDl",
        "colab_type": "code",
        "colab": {},
        "outputId": "d10fb1a7-d21c-4cf7-b352-c58cc1425204"
      },
      "source": [
        "# Greater than check - False\n",
        "my_favorite_number > my_least_favorite_number"
      ],
      "execution_count": null,
      "outputs": [
        {
          "output_type": "execute_result",
          "data": {
            "text/plain": [
              "False"
            ]
          },
          "metadata": {
            "tags": []
          },
          "execution_count": 30
        }
      ]
    },
    {
      "cell_type": "code",
      "metadata": {
        "id": "X9gqzFbtJKDt",
        "colab_type": "code",
        "colab": {},
        "outputId": "35594f44-bba0-4a19-9323-368a673861e5"
      },
      "source": [
        "# Less than check - True\n",
        "my_favorite_number < 10"
      ],
      "execution_count": null,
      "outputs": [
        {
          "output_type": "execute_result",
          "data": {
            "text/plain": [
              "True"
            ]
          },
          "metadata": {
            "tags": []
          },
          "execution_count": 31
        }
      ]
    },
    {
      "cell_type": "code",
      "metadata": {
        "id": "6NgqsmPXJKDx",
        "colab_type": "code",
        "colab": {},
        "outputId": "6ab2560e-50fa-4373-ce23-b3b100f496c3"
      },
      "source": [
        "# Less than check - False\n",
        "my_least_favorite_number < my_favorite_number"
      ],
      "execution_count": null,
      "outputs": [
        {
          "output_type": "execute_result",
          "data": {
            "text/plain": [
              "False"
            ]
          },
          "metadata": {
            "tags": []
          },
          "execution_count": 32
        }
      ]
    },
    {
      "cell_type": "code",
      "metadata": {
        "id": "HCs-P8v6JKD0",
        "colab_type": "code",
        "colab": {},
        "outputId": "f9d9271e-f61b-414e-9ed9-c6c8218f17ae"
      },
      "source": [
        "# Greater than or equal check - True\n",
        "my_favorite_number >= 1"
      ],
      "execution_count": null,
      "outputs": [
        {
          "output_type": "execute_result",
          "data": {
            "text/plain": [
              "True"
            ]
          },
          "metadata": {
            "tags": []
          },
          "execution_count": 33
        }
      ]
    },
    {
      "cell_type": "code",
      "metadata": {
        "id": "g7BLiD7hJKD4",
        "colab_type": "code",
        "colab": {},
        "outputId": "6be8c6fa-ad1d-4881-de7b-5ca660fee247"
      },
      "source": [
        "# Greater than or equal check - False\n",
        "my_favorite_number >= 3"
      ],
      "execution_count": null,
      "outputs": [
        {
          "output_type": "execute_result",
          "data": {
            "text/plain": [
              "False"
            ]
          },
          "metadata": {
            "tags": []
          },
          "execution_count": 34
        }
      ]
    },
    {
      "cell_type": "code",
      "metadata": {
        "id": "EM9p5SGqJKD_",
        "colab_type": "code",
        "colab": {},
        "outputId": "db2d9ba0-ca94-4fd3-b19c-88f8006d3d03"
      },
      "source": [
        "# Less than or equal check - True\n",
        "3 + 6 <= 9"
      ],
      "execution_count": null,
      "outputs": [
        {
          "output_type": "execute_result",
          "data": {
            "text/plain": [
              "True"
            ]
          },
          "metadata": {
            "tags": []
          },
          "execution_count": 35
        }
      ]
    },
    {
      "cell_type": "code",
      "metadata": {
        "id": "sg3dCM6zJKED",
        "colab_type": "code",
        "colab": {},
        "outputId": "c3768061-dee3-46a1-e6ca-f52985525c9c"
      },
      "source": [
        "# Less than or equal check - False\n",
        "my_favorite_number + a_neutral_number <= 3"
      ],
      "execution_count": null,
      "outputs": [
        {
          "output_type": "execute_result",
          "data": {
            "text/plain": [
              "False"
            ]
          },
          "metadata": {
            "tags": []
          },
          "execution_count": 36
        }
      ]
    },
    {
      "cell_type": "markdown",
      "metadata": {
        "id": "ql3V8bpgJKEN",
        "colab_type": "text"
      },
      "source": [
        "Just like arithmetic operations, the result of a comparison opration can also be stored in a variable."
      ]
    },
    {
      "cell_type": "code",
      "metadata": {
        "id": "OLMmHRokJKEO",
        "colab_type": "code",
        "colab": {},
        "outputId": "5d2712de-22bf-4e08-c4c7-b23929318cf2"
      },
      "source": [
        "cost_of_ice_bag = 1.25\n",
        "is_ice_bag_expensive = cost_of_ice_bag >= 10\n",
        "print(\"Is the ice bag expensive?\", is_ice_bag_expensive)"
      ],
      "execution_count": null,
      "outputs": [
        {
          "output_type": "stream",
          "text": [
            "Is the ice bag expensive? False\n"
          ],
          "name": "stdout"
        }
      ]
    },
    {
      "cell_type": "markdown",
      "metadata": {
        "id": "DdKAly-aJKER",
        "colab_type": "text"
      },
      "source": [
        "## Combining conditions with logical operators\n",
        "\n",
        "The logical operators `and`, `or` and `not` operate upon conditions and `True` & `False` values (also known as *booleans*). `and` and `or` operate on two conditions, whereas `not` operates on a single condition.\n",
        "\n",
        "The `and` operator returns `True` when both the conditions evalute to `True`. Otherwise it returns `False`.\n",
        "\n",
        "| `a`     | `b`    | `a and b` |\n",
        "|---------|--------|-----------|\n",
        "|  `True` | `True` | `True`    |\n",
        "|  `True` | `False`| `False`   |\n",
        "|  `False`| `True` | `False`   |\n",
        "|  `False`| `False`| `False`   |\n"
      ]
    },
    {
      "cell_type": "code",
      "metadata": {
        "scrolled": true,
        "id": "xveMH8GeJKET",
        "colab_type": "code",
        "colab": {},
        "outputId": "37aaca21-5bc9-4c59-c1fe-7d0b51e2a3f9"
      },
      "source": [
        "my_favorite_number"
      ],
      "execution_count": null,
      "outputs": [
        {
          "output_type": "execute_result",
          "data": {
            "text/plain": [
              "1"
            ]
          },
          "metadata": {
            "tags": []
          },
          "execution_count": 38
        }
      ]
    },
    {
      "cell_type": "code",
      "metadata": {
        "id": "QCzYe3CPJKEc",
        "colab_type": "code",
        "colab": {},
        "outputId": "6508fb17-9c51-4f8a-d02b-6a502caea48e"
      },
      "source": [
        "my_favorite_number > 0 and my_favorite_number <= 3"
      ],
      "execution_count": null,
      "outputs": [
        {
          "output_type": "execute_result",
          "data": {
            "text/plain": [
              "True"
            ]
          },
          "metadata": {
            "tags": []
          },
          "execution_count": 39
        }
      ]
    },
    {
      "cell_type": "code",
      "metadata": {
        "id": "7QreuFyzJKEg",
        "colab_type": "code",
        "colab": {},
        "outputId": "52ff19b8-3d47-44ad-d6b2-e005deb5051e"
      },
      "source": [
        "my_favorite_number < 0 and my_favorite_number <= 3"
      ],
      "execution_count": null,
      "outputs": [
        {
          "output_type": "execute_result",
          "data": {
            "text/plain": [
              "False"
            ]
          },
          "metadata": {
            "tags": []
          },
          "execution_count": 40
        }
      ]
    },
    {
      "cell_type": "code",
      "metadata": {
        "id": "hAcKmO9LJKEk",
        "colab_type": "code",
        "colab": {},
        "outputId": "3c78b9da-029d-47ec-ce02-3ef25bbfcd97"
      },
      "source": [
        "my_favorite_number > 0 and my_favorite_number >= 3"
      ],
      "execution_count": null,
      "outputs": [
        {
          "output_type": "execute_result",
          "data": {
            "text/plain": [
              "False"
            ]
          },
          "metadata": {
            "tags": []
          },
          "execution_count": 41
        }
      ]
    },
    {
      "cell_type": "code",
      "metadata": {
        "id": "EiJJgWDBJKEn",
        "colab_type": "code",
        "colab": {},
        "outputId": "d35871c9-838e-49f7-aea2-997f265544f8"
      },
      "source": [
        "True and False"
      ],
      "execution_count": null,
      "outputs": [
        {
          "output_type": "execute_result",
          "data": {
            "text/plain": [
              "False"
            ]
          },
          "metadata": {
            "tags": []
          },
          "execution_count": 42
        }
      ]
    },
    {
      "cell_type": "code",
      "metadata": {
        "id": "G5fXBsm-JKEw",
        "colab_type": "code",
        "colab": {},
        "outputId": "d35dcb9e-44e4-4751-fecf-89c51ac87c55"
      },
      "source": [
        "True and True"
      ],
      "execution_count": null,
      "outputs": [
        {
          "output_type": "execute_result",
          "data": {
            "text/plain": [
              "True"
            ]
          },
          "metadata": {
            "tags": []
          },
          "execution_count": 43
        }
      ]
    },
    {
      "cell_type": "markdown",
      "metadata": {
        "id": "Kz2BTi6vJKE0",
        "colab_type": "text"
      },
      "source": [
        "The `or` operator returns `True` if at least one of the conditions evalute to `True`. It returns `False` only if both conditions are `False`.\n",
        "\n",
        "| `a`     | `b`    | `a or b`  |\n",
        "|---------|--------|-----------|\n",
        "|  `True` | `True` | `True`    |\n",
        "|  `True` | `False`| `True`    |\n",
        "|  `False`| `True` | `True`    |\n",
        "|  `False`| `False`| `False`   |\n",
        "\n"
      ]
    },
    {
      "cell_type": "code",
      "metadata": {
        "id": "no22YIIVJKE1",
        "colab_type": "code",
        "colab": {}
      },
      "source": [
        "a_neutral_number = 3"
      ],
      "execution_count": null,
      "outputs": []
    },
    {
      "cell_type": "code",
      "metadata": {
        "id": "r-wDLPfqJKE9",
        "colab_type": "code",
        "colab": {},
        "outputId": "bdece096-2d4d-450e-9713-390286d5868f"
      },
      "source": [
        "a_neutral_number == 3 or my_favorite_number < 0"
      ],
      "execution_count": null,
      "outputs": [
        {
          "output_type": "execute_result",
          "data": {
            "text/plain": [
              "True"
            ]
          },
          "metadata": {
            "tags": []
          },
          "execution_count": 45
        }
      ]
    },
    {
      "cell_type": "code",
      "metadata": {
        "id": "2NQ6UIzbJKFA",
        "colab_type": "code",
        "colab": {},
        "outputId": "fe3c4e41-e17d-47a5-fc9b-4d0f4e90cf82"
      },
      "source": [
        "a_neutral_number != 3 or my_favorite_number < 0"
      ],
      "execution_count": null,
      "outputs": [
        {
          "output_type": "execute_result",
          "data": {
            "text/plain": [
              "False"
            ]
          },
          "metadata": {
            "tags": []
          },
          "execution_count": 46
        }
      ]
    },
    {
      "cell_type": "code",
      "metadata": {
        "id": "We5-V-5MJKFF",
        "colab_type": "code",
        "colab": {},
        "outputId": "00bd193b-aacc-4d2d-90ea-d909133df4a4"
      },
      "source": [
        "my_favorite_number < 0 or True"
      ],
      "execution_count": null,
      "outputs": [
        {
          "output_type": "execute_result",
          "data": {
            "text/plain": [
              "True"
            ]
          },
          "metadata": {
            "tags": []
          },
          "execution_count": 47
        }
      ]
    },
    {
      "cell_type": "code",
      "metadata": {
        "id": "4XT7SikrJKFM",
        "colab_type": "code",
        "colab": {},
        "outputId": "673fd4f0-00cb-4376-bd0d-c8c9b3573fb1"
      },
      "source": [
        "False or False"
      ],
      "execution_count": null,
      "outputs": [
        {
          "output_type": "execute_result",
          "data": {
            "text/plain": [
              "False"
            ]
          },
          "metadata": {
            "tags": []
          },
          "execution_count": 48
        }
      ]
    },
    {
      "cell_type": "markdown",
      "metadata": {
        "id": "C-RblOcOJKFR",
        "colab_type": "text"
      },
      "source": [
        "The `not` operator returns `False` if a condition is `True` and `True` if the condition is `False`."
      ]
    },
    {
      "cell_type": "code",
      "metadata": {
        "id": "jR9NAD6IJKFS",
        "colab_type": "code",
        "colab": {},
        "outputId": "bb392872-b79f-44c2-8dc1-fbe0e6b4a69d"
      },
      "source": [
        "not a_neutral_number == 3"
      ],
      "execution_count": null,
      "outputs": [
        {
          "output_type": "execute_result",
          "data": {
            "text/plain": [
              "False"
            ]
          },
          "metadata": {
            "tags": []
          },
          "execution_count": 49
        }
      ]
    },
    {
      "cell_type": "code",
      "metadata": {
        "id": "2hPELp6fJKFZ",
        "colab_type": "code",
        "colab": {},
        "outputId": "10955dfb-b161-46f4-b105-011ca903e924"
      },
      "source": [
        "not my_favorite_number < 0"
      ],
      "execution_count": null,
      "outputs": [
        {
          "output_type": "execute_result",
          "data": {
            "text/plain": [
              "True"
            ]
          },
          "metadata": {
            "tags": []
          },
          "execution_count": 50
        }
      ]
    },
    {
      "cell_type": "code",
      "metadata": {
        "id": "mmZ_WNKSJKFc",
        "colab_type": "code",
        "colab": {},
        "outputId": "9ddc7f7c-2a4b-464f-a24f-f698ecee103e"
      },
      "source": [
        "not False"
      ],
      "execution_count": null,
      "outputs": [
        {
          "output_type": "execute_result",
          "data": {
            "text/plain": [
              "True"
            ]
          },
          "metadata": {
            "tags": []
          },
          "execution_count": 51
        }
      ]
    },
    {
      "cell_type": "code",
      "metadata": {
        "id": "1YkWXUpjJKFg",
        "colab_type": "code",
        "colab": {},
        "outputId": "3ac1af6f-939f-4ccd-f0db-895722e00c19"
      },
      "source": [
        "not True"
      ],
      "execution_count": null,
      "outputs": [
        {
          "output_type": "execute_result",
          "data": {
            "text/plain": [
              "False"
            ]
          },
          "metadata": {
            "tags": []
          },
          "execution_count": 52
        }
      ]
    },
    {
      "cell_type": "markdown",
      "metadata": {
        "id": "PxhK88i0JKFn",
        "colab_type": "text"
      },
      "source": [
        "Logical operators can be combined to form complex conditions. Use round brackets or parantheses `(` and `)` to indicate the order in which logical operators should be applied."
      ]
    },
    {
      "cell_type": "code",
      "metadata": {
        "id": "hen_REiPJKFo",
        "colab_type": "code",
        "colab": {},
        "outputId": "d0dcc92e-9dc8-4662-f95c-7c5a56c6c608"
      },
      "source": [
        "(2 > 3 and 4 <= 5) or not (my_favorite_number < 0 and True)"
      ],
      "execution_count": null,
      "outputs": [
        {
          "output_type": "execute_result",
          "data": {
            "text/plain": [
              "True"
            ]
          },
          "metadata": {
            "tags": []
          },
          "execution_count": 53
        }
      ]
    },
    {
      "cell_type": "code",
      "metadata": {
        "id": "Y7YxT-sJJKFs",
        "colab_type": "code",
        "colab": {},
        "outputId": "4ec5b05f-c329-4aa3-e4f8-bc5e72f96c38"
      },
      "source": [
        "not (True and 0 < 1) or (False and True)"
      ],
      "execution_count": null,
      "outputs": [
        {
          "output_type": "execute_result",
          "data": {
            "text/plain": [
              "False"
            ]
          },
          "metadata": {
            "tags": []
          },
          "execution_count": 54
        }
      ]
    },
    {
      "cell_type": "markdown",
      "metadata": {
        "id": "nEA6MGfRJKFw",
        "colab_type": "text"
      },
      "source": [
        "If parantheses are not used, logical operators are applied from left to right."
      ]
    },
    {
      "cell_type": "code",
      "metadata": {
        "id": "6F80AqHqJKFx",
        "colab_type": "code",
        "colab": {},
        "outputId": "69504abd-ac91-468f-d61f-759aaa6fcb8b"
      },
      "source": [
        "not True and 0 < 1 or False and True"
      ],
      "execution_count": null,
      "outputs": [
        {
          "output_type": "execute_result",
          "data": {
            "text/plain": [
              "False"
            ]
          },
          "metadata": {
            "tags": []
          },
          "execution_count": 55
        }
      ]
    },
    {
      "cell_type": "markdown",
      "metadata": {
        "id": "zKenta8kJKF2",
        "colab_type": "text"
      },
      "source": [
        "Experiment with arithmetic, conditional and logical operators in Python using the interactive nature of Jupyter notebook. We will learn more about variables and functions in future tutorials."
      ]
    },
    {
      "cell_type": "markdown",
      "metadata": {
        "id": "d6vy-vs0JKF3",
        "colab_type": "text"
      },
      "source": [
        "## Adding text styles using Markdown\n",
        "\n",
        "Adding explanations using text cells (like this one) is great way to make your notebook informative for other readers, and for yourself, if you need to refer back to it in the future. Double click on a text cell within Jupyter to edit it. In the edit mode, you'll notice that the text looks a little different (for instance the heading has a `##` prefix. This text is writted using Markdown, a simple way to add styles to your text. Execute this cell to see the output without the special characters. You can switch back and forth between the source and the output to see how to create a specific style.\n",
        "\n",
        "For, instance, you can use one or more `#` characters at the start of a line to create headers of different sizes:\n",
        "\n",
        "# Header 1\n",
        "\n",
        "## Header 2\n",
        "\n",
        "### Header 3\n",
        "\n",
        "#### Header 4\n",
        "\n",
        "To create a bulleted or numbered list, simply start a line with `*` or `1.`.\n",
        "\n",
        "A bulleted list:\n",
        "\n",
        "* Item 1\n",
        "* Item 2\n",
        "* Item 3\n",
        "\n",
        "A numbered list:\n",
        "\n",
        "1. Apple\n",
        "2. Banana\n",
        "3. Pineapple\n",
        "\n",
        "You can make some text bold using `**` e.g. **this is some bold text**, or make it italic using `*` e.g. *this is some italic text.* You can also create links e.g. [this is a link](https://jovian.ml). Images are easily embedded too:\n",
        "\n",
        "![](https://i.imgur.com/7ndD3nX.png)\n",
        "\n",
        "Another really nice feature of Markdown is ability to include blocks of code. Note that code blocks inside Markdown cells cannot be executed.\n",
        "\n",
        "```\n",
        "# Perform the required calculations\n",
        "profit_per_bag = cost_of_ice_bag * profit_margin\n",
        "total_profit = number_of_bags * profit_per_bag\n",
        "\n",
        "# Display the result\n",
        "print(\"The grocery store makes a total profit of $\", total_profit)\n",
        "\n",
        "```\n",
        "\n",
        "You can learn the full syntax of Markdown here: https://learnxinyminutes.com/docs/markdown/"
      ]
    },
    {
      "cell_type": "markdown",
      "metadata": {
        "id": "_IZ9ZUNAJKF3",
        "colab_type": "text"
      },
      "source": [
        "## Save and upload your notebook\n",
        "\n",
        "Whether you're running this Jupyter notebook on an online service like Binder or on your local machine, it's important to save your work from time, so that you can access it later, or share it online. You can upload this notebook to your [Jovian.ml](https://jovian.ml) account using the `jovian` Python library.\n",
        "\n",
        "First, you need to install the Jovian python library, if it isn't already installed."
      ]
    },
    {
      "cell_type": "code",
      "metadata": {
        "id": "WJY6hHW_JKF4",
        "colab_type": "code",
        "colab": {}
      },
      "source": [
        "!pip install jovian --upgrade --quiet"
      ],
      "execution_count": null,
      "outputs": []
    },
    {
      "cell_type": "markdown",
      "metadata": {
        "id": "J5mXDfk-JKF9",
        "colab_type": "text"
      },
      "source": [
        "Next, the library needs to be imported."
      ]
    },
    {
      "cell_type": "code",
      "metadata": {
        "id": "Pcar7-5IJKF-",
        "colab_type": "code",
        "colab": {}
      },
      "source": [
        "import jovian"
      ],
      "execution_count": null,
      "outputs": []
    },
    {
      "cell_type": "markdown",
      "metadata": {
        "id": "dzxWoBoyJKGA",
        "colab_type": "text"
      },
      "source": [
        "Finally, you can run `jovian.commit` to capture and upload a snapshot of the notebook."
      ]
    },
    {
      "cell_type": "code",
      "metadata": {
        "id": "eChBP6-ZJKGB",
        "colab_type": "code",
        "colab": {},
        "outputId": "ff006945-cd9d-4aee-8f36-20ff0f0361a9"
      },
      "source": [
        "jovian.commit(project='first-steps-with-python')"
      ],
      "execution_count": null,
      "outputs": [
        {
          "output_type": "display_data",
          "data": {
            "application/javascript": [
              "window.require && require([\"base/js/namespace\"],function(Jupyter){Jupyter.notebook.save_checkpoint()})"
            ],
            "text/plain": [
              "<IPython.core.display.Javascript object>"
            ]
          },
          "metadata": {
            "tags": []
          }
        },
        {
          "output_type": "stream",
          "text": [
            "[jovian] Attempting to save notebook..\n",
            "[jovian] Please enter your API key ( from https://jovian.ml/ ):\n",
            "API KEY: "
          ],
          "name": "stdout"
        }
      ]
    },
    {
      "cell_type": "markdown",
      "metadata": {
        "id": "r7O5_h1nJKGE",
        "colab_type": "text"
      },
      "source": [
        "The first time you run `jovian.commit`, you'll be asked to provide an API Key, to securely upload the notebook to your Jovian.ml account. You can get the API key from your Jovian.ml profile page after logging in / signing up.\n",
        "\n",
        "![api-key](https://i.imgur.com/YGGLH3e.png)\n",
        "\n",
        "`jovian.commit` uploads the notebook to your Jovian.ml account, captures the Python environment and creates a shareable link for your notebook as shown above. You can use this link to share your work and let anyone (including you) run your notebooks and reproduce your work. Jovian also includes a powerful commenting interface, so you can discuss & comment on specific parts of your notebook:\n",
        "\n",
        "![https://jovian.ml/docs/user-guide/upload.html](https://i.imgur.com/kxx3pqM.png)\n",
        "\n",
        "You can do a lot more with the `jovian` Python library. Visit the documentation site to learn more: https://jovian.ml/docs/index.html"
      ]
    },
    {
      "cell_type": "markdown",
      "metadata": {
        "id": "Exo1hz1CJKGE",
        "colab_type": "text"
      },
      "source": [
        "## Further Reading and References\n",
        "\n",
        "Following are some resources to learn about more arithmetic, conditional and logical operations in Python:\n",
        "\n",
        "* Python Tutorial at W3Schools: https://www.w3schools.com/python/\n",
        "* Practical Python Programming: https://dabeaz-course.github.io/practical-python/Notes/Contents.html\n",
        "* Python official documentation: https://docs.python.org/3/tutorial/index.html\n",
        "\n",
        "Now that you have taken your first steps with Python, you are ready to move on to the next tutorial: [\"A Quick Tour of Variables and Data Types in Python\"](https://jovian.ml/aakashns/python-variables-and-data-types)."
      ]
    }
  ]
}